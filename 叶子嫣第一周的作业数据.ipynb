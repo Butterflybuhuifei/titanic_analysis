{
 "cells": [
  {
   "cell_type": "markdown",
   "id": "f124397b",
   "metadata": {},
   "source": [
    "#                                  数据分析报告——叶子嫣"
   ]
  },
  {
   "cell_type": "markdown",
   "id": "647c27f3",
   "metadata": {},
   "source": [
    "## 环境准备与数据加载"
   ]
  },
  {
   "cell_type": "code",
   "execution_count": null,
   "id": "11bddee4",
   "metadata": {},
   "outputs": [],
   "source": [
    "import pandas as pd\n",
    "import numpy as np\n",
    "import seaborn as sns\n",
    "import matplotlib.pyplot as plt\n",
    "%matplotlib inline\n",
    "\n",
    "#加载数据\n",
    "df = pd.read_csv('train_and_test2.csv')"
   ]
  },
  {
   "cell_type": "markdown",
   "id": "d9f78217",
   "metadata": {},
   "source": [
    "## 数据初步检查"
   ]
  },
  {
   "cell_type": "code",
   "execution_count": null,
   "id": "c0982479",
   "metadata": {},
   "outputs": [],
   "source": [
    "df.head()\n",
    "\n",
    "df.info()\n",
    "\n",
    "df.isnull().sum()"
   ]
  },
  {
   "cell_type": "markdown",
   "id": "21524a08",
   "metadata": {},
   "source": [
    "## 数据初步检查"
   ]
  },
  {
   "cell_type": "code",
   "execution_count": null,
   "id": "c488308a",
   "metadata": {},
   "outputs": [],
   "source": [
    "df = df.rename(columns={'2urvived':'Survived'})\n",
    "\n",
    "cols_to_keep = ['Passengerid','Age','Fare','Sex','sibsp','Parch','Pclass','Survived']\n",
    "df = df[cols_to_keep]\n",
    "\n",
    "df['Age'] = df['Age'].replace(0, np.nan)\n",
    "df['Age'] = df['Age'].fillna(df['Age'].median())\n",
    "\n",
    "df['Sex'] = df['Sex'].astype('category')\n",
    "df['Pclass'] = df['Pclass'].astype('category')"
   ]
  },
  {
   "cell_type": "markdown",
   "id": "70a8784b",
   "metadata": {},
   "source": [
    "## 基础统计分析"
   ]
  },
  {
   "cell_type": "code",
   "execution_count": null,
   "id": "be1b3823",
   "metadata": {},
   "outputs": [],
   "source": [
    "df.describe()\n",
    "\n",
    "df['Sex'].value_counts()\n",
    "df['Pclass'].value_counts()\n",
    "\n",
    "survival_rate = df['Survived'].mean()\n",
    "print(f'整体生存率：{survival_rate:.2%}')\n",
    "\n",
    "pd.pivot_table(df,values='Survived',index='Pclass',columns='Sex',aggfunc='mean')"
   ]
  },
  {
   "cell_type": "markdown",
   "id": "a2de260b",
   "metadata": {},
   "source": [
    "## 数据可视化"
   ]
  },
  {
   "cell_type": "markdown",
   "id": "187e623d",
   "metadata": {},
   "source": [
    "### 单变量分布"
   ]
  },
  {
   "cell_type": "code",
   "execution_count": null,
   "id": "cb8e1157",
   "metadata": {},
   "outputs": [],
   "source": [
    "sns.histplot(df['Age'], bins=30,kde=True)\n",
    "plt.title('乘客年龄分布')\n",
    "plt.show()\n",
    "\n",
    "sns.boxplot(x=df['Fare'])\n",
    "plt.title('票价分布')\n",
    "plt.show()"
   ]
  },
  {
   "cell_type": "markdown",
   "id": "13f74ebe",
   "metadata": {},
   "source": [
    "### 多变量分析"
   ]
  },
  {
   "cell_type": "code",
   "execution_count": null,
   "id": "18ddfaca",
   "metadata": {},
   "outputs": [],
   "source": [
    "sns.boxplot(x='Pclass',y='Age',data=df)\n",
    "plt.title('各舱位乘客年龄分布')\n",
    "plt.show()\n",
    "\n",
    "sns.barplot(x='Sex',y='Survived',data=df)\n",
    "plt.title('性别与生存率')\n",
    "plt.show()"
   ]
  },
  {
   "cell_type": "markdown",
   "id": "f1a46cd2",
   "metadata": {},
   "source": [
    "### 相关性热力图"
   ]
  },
  {
   "cell_type": "code",
   "execution_count": null,
   "id": "2fbf891e",
   "metadata": {},
   "outputs": [],
   "source": [
    "corr = df.corr(numeric_only=True)\n",
    "\n",
    "sns.heatmap(corr, annot=True, cmap='coolwarm')\n",
    "plt.title('特征相关性')\n",
    "plt.show()"
   ]
  }
 ],
 "metadata": {
  "kernelspec": {
   "display_name": "Python 3 (ipykernel)",
   "language": "python",
   "name": "python3"
  },
  "language_info": {
   "codemirror_mode": {
    "name": "ipython",
    "version": 3
   },
   "file_extension": ".py",
   "mimetype": "text/x-python",
   "name": "python",
   "nbconvert_exporter": "python",
   "pygments_lexer": "ipython3",
   "version": "3.11.5"
  }
 },
 "nbformat": 4,
 "nbformat_minor": 5
}
